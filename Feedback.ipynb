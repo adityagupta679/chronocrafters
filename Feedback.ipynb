{
  "nbformat": 4,
  "nbformat_minor": 0,
  "metadata": {
    "colab": {
      "provenance": []
    },
    "kernelspec": {
      "name": "python3",
      "display_name": "Python 3"
    },
    "language_info": {
      "name": "python"
    }
  },
  "cells": [
    {
      "cell_type": "code",
      "source": [
        "from google.colab import drive\n",
        "drive.mount('/content/drive')"
      ],
      "metadata": {
        "id": "24tZGSSbTtmW",
        "outputId": "43b7b9d6-4523-4db1-8f44-3780d3ac2d8c",
        "colab": {
          "base_uri": "https://localhost:8080/"
        }
      },
      "execution_count": 2,
      "outputs": [
        {
          "output_type": "stream",
          "name": "stdout",
          "text": [
            "Mounted at /content/drive\n"
          ]
        }
      ]
    },
    {
      "cell_type": "code",
      "source": [
        "wrkng_dir= \"/content/drive/MyDrive/project FL\"\n",
        "# wrkng_dir = \"/content/drive/MyDrive/FMGAI/Project/project FL\""
      ],
      "metadata": {
        "id": "g7CwGheSnXhs"
      },
      "execution_count": 3,
      "outputs": []
    },
    {
      "cell_type": "code",
      "source": [
        "import pandas as pd\n",
        "\n",
        "# Replace 'your_file.xlsx' with your actual file path\n",
        "file_path = \"/content/drive/MyDrive/project FL/input_comic.xlsx\"\n",
        "df = pd.read_excel(file_path)\n",
        "\n",
        "# Extracting specific columns and converting them to lists\n",
        "examples_chars_sc = df[['characters', 'scenario', 'strip_path']].values.tolist()  # Replace 'Column1', 'Column2', etc., with actual column names\n",
        "\n",
        "# Creating a list of [char_data[0], char_data[1], char_data[2]] format\n",
        "examples = [[char_data[0], char_data[1], char_data[2]] for char_data in examples_chars_sc]\n",
        "\n",
        "for char_data in examples_chars_sc:\n",
        "    for idx, i in enumerate(char_data):\n",
        "        if 'strip' in i:\n",
        "            # Replace \"strip\" with \"input\" in the string\n",
        "            new = i.replace(\"strip\", \"input\")\n",
        "\n",
        "            # Append the new value to the list (keeping the original as well)\n",
        "            char_data.append(new)\n",
        "\n",
        "# Adding modified data to 'examples' list\n",
        "examples = [[char_data[0], char_data[1], char_data[2], char_data[3]] for char_data in examples_chars_sc]\n",
        "\n",
        "# Display the updated examples list\n",
        "print(examples)"
      ],
      "metadata": {
        "colab": {
          "base_uri": "https://localhost:8080/"
        },
        "id": "r93bbLfBpm7E",
        "outputId": "43f20c06-9d4c-4867-f598-e6a458d2a921"
      },
      "execution_count": 4,
      "outputs": [
        {
          "output_type": "stream",
          "name": "stdout",
          "text": [
            "[['Neha the Kite Maker', 'Neha is a 9-year-old girl whose family makes kites for a living. One day, she makes a kite so big that it lifts her off the ground and takes her on an adventure over her city, giving her a bird’s-eye view of her home for the first time.', 'outputs/Neha the Kite Maker/strip.png', 'outputs/Neha the Kite Maker/input.png'], ['Arjun the Potter’s Apprentice', 'Arjun, 10 years old, helps his father make pots. He accidentally makes a pot that grows larger every time someone makes a wish near it. Now, the village is full of giant pots, and he needs to figure out how to reverse the spell.', 'outputs/Arjun the Potter’s Apprentice/strip.png', 'outputs/Arjun the Potter’s Apprentice/input.png'], ['Sara the Underwater Explorer', 'Sara, 11 years old, lives by the sea. She finds an enchanted shell that allows her to breathe underwater. She uses it to explore the ocean and make friends with dolphins, but soon, she discovers a sunken ship that needs rescuing from being buried forever.', 'outputs/Sara the Underwater Explorer/strip.png', 'outputs/Sara the Underwater Explorer/input.png'], ['Om the Treehouse Keeper', 'Om is a 10-year-old boy with the coolest treehouse in town. One day, he discovers that his treehouse is actually the meeting point for forest creatures. He must decide whether to keep their secret or invite his friends to explore this magical place.', 'outputs/Om the Treehouse Keeper/strip.png', 'outputs/Om the Treehouse Keeper/input.png'], ['Anish the Rain Magician', 'Anish is 8 years old and has a unique power – he can make it rain wherever he dances. When his village faces a drought, he decides to help but must first learn the secret dance steps passed down by the rain gods.', 'outputs/Anish the Rain Magician/strip.png', 'outputs/Anish the Rain Magician/input.png'], ['Pihu the Train Adventurer', 'Pihu is a 7-year-old who loves trains. During a long journey with her parents, she finds a secret compartment in the train car that leads to a special kids-only compartment where everything is made of chocolate.', 'outputs/Pihu the Train Adventurer/strip.png', 'outputs/Pihu the Train Adventurer/input.png'], ['Mohit the Balloon Seller', 'Mohit, 11 years old, sells balloons at the fair. One day, a magical balloon begins to float away, taking Mohit with it. It takes him above the clouds to a place where balloons never pop, and he meets creatures made entirely out of air.', 'outputs/Mohit the Balloon Seller/strip.png', 'outputs/Mohit the Balloon Seller/input.png'], ['Aditi the Animal Whisperer', 'Aditi is a 9-year-old girl who can talk to animals. A squirrel tells her that all the nuts stored for winter have gone missing, and they suspect a big cat is behind it. Aditi embarks on an adventure to solve the mystery with her animal friends.', 'outputs/Aditi the Animal Whisperer/strip.png', 'outputs/Aditi the Animal Whisperer/input.png'], ['Naina the Festival Enthusiast', 'Naina loves Indian festivals, especially Diwali. She decides to make an eco-friendly Rangoli that glows without firecrackers. She enlists the help of fireflies but finds out they need something in return – a way to light up their forest.', 'outputs/Naina the Festival Enthusiast/strip.png', 'outputs/Naina the Festival Enthusiast/input.png'], ['Soham the Junior Astronaut', 'Soham, 12 years old, dreams of going to space. With his telescope, he notices a flashing light coming from the moon. He builds a makeshift spaceship in his backyard, convinced that he’s going to save an astronaut in trouble, only to discover an unexpected surprise.', 'outputs/Soham the Junior Astronaut/strip.png', 'outputs/Soham the Junior Astronaut/input.png'], ['Meher the Foodie Explorer', 'Meher, 8 years old, is an adventurous foodie. She finds a magical spice box in her kitchen that transports her to different parts of India each time she opens a new compartment. Today, she finds herself in Rajasthan, enjoying kachoris with a local family.', 'outputs/Meher the Foodie Explorer/strip.png', 'outputs/Meher the Foodie Explorer/input.png'], ['Ravi the Time Traveler', 'Ravi, an 11-year-old boy, finds an old clock in his grandfather’s shop. When he winds it, he is transported to his village 50 years in the past. He tries to navigate this unfamiliar world while figuring out how to get back home.', 'outputs/Ravi the Time Traveler/strip.png', 'outputs/Ravi the Time Traveler/input.png'], ['Tara the Kite Whisperer', \"Tara is a 10-year-old who has an extraordinary gift: she can speak to kites. During the annual kite festival, her kite warns her of a strange wind that could ruin the fun. She quickly mobilizes her friends to save everyone's kites before the winds arrive.\", 'outputs/Tara the Kite Whisperer/strip.png', 'outputs/Tara the Kite Whisperer/input.png'], ['Kabir the Village Gardener', 'Kabir, 9 years old, loves tending to his grandmother’s garden. One day, he finds a mysterious seed in the village market and decides to plant it. Overnight, the plant grows into a massive sunflower with a door in the center, leading to a hidden world.', 'outputs/Kabir the Village Gardener/strip.png', 'outputs/Kabir the Village Gardener/input.png'], ['Sanvi the Waterfall Whisperer', 'Sanvi is an 11-year-old girl who feels a deep connection with waterfalls. On a family picnic, she discovers a hidden waterfall in the forest that seems to be calling her name. She approaches, only to find a small secret cave behind it.', 'outputs/Sanvi the Waterfall Whisperer/strip.png', 'outputs/Sanvi the Waterfall Whisperer/input.png'], ['Vihaan the Tech Genius', 'Vihaan is a 12-year-old tech enthusiast who has built a small drone with recycled materials. During its first flight, the drone malfunctions and starts heading towards the neighborhood. Vihaan chases after it through alleys and rooftops, trying to regain control before it causes any trouble.', 'outputs/Vihaan the Tech Genius/strip.png', 'outputs/Vihaan the Tech Genius/input.png'], ['Ria the Cloud Painter', 'Ria is an 8-year-old who loves painting clouds. She imagines that each cloud is a canvas, and she uses her magic paintbrush to color them. Today, she’s floating on a small cloud herself, trying to paint a rainbow-colored dragon in the sky.', 'outputs/Ria the Cloud Painter/strip.png', 'outputs/Ria the Cloud Painter/input.png'], ['Aarav the Curious Scientist', 'Aarav is a 10-year-old boy who loves experimenting with science. Today, he’s in his garage with a chemistry set, trying to create a colorful explosion for his science project. Suddenly, the reaction goes bigger than he expected, and now he’s trying to contain it with his pet parrot, Piku, assisting.', 'outputs/Aarav the Curious Scientist/strip.png', 'outputs/Aarav the Curious Scientist/input.png'], ['Leela the River Guardian', 'Leela is an 11-year-old girl who lives by the banks of the Ganges. She loves the river and is always worried about its cleanliness. When she notices a strange green glow coming from the water, she, along with her friend Arjun, decides to investigate. They discover that an old legend about the river’s protectors may actually be true, and it’s up to them to save the river from pollution.', 'outputs/Leela the River Guardian/strip.png', 'outputs/Leela the River Guardian/input.png'], ['Dev the Village Detective', 'Dev is a curious 10-year-old boy from a small village in Maharashtra. When the village bell mysteriously disappears before a big celebration, Dev decides to investigate. He interviews villagers, follows clues, and eventually finds the bell hidden in a haystack — all while avoiding the suspicious buffalo that seems to be watching him!', 'outputs/Dev the Village Detective/strip.png', 'outputs/Dev the Village Detective/input.png'], ['Aanya the Festive Fashionista', 'Aanya is a 9-year-old girl who loves traditional Indian clothing and designing outfits. When the local Ganesh Chaturthi festival is approaching, she decides to design a special outfit for her younger brother, featuring vibrant colors and mirrors. However, she must complete it while also helping her mother prepare sweets for the festival, leading to some hilarious mix-ups.', 'outputs/Aanya the Festive Fashionista/strip.png', 'outputs/Aanya the Festive Fashionista/input.png'], ['Raj the Aspiring Scientist', 'Raj is a 12-year-old boy who dreams of becoming a scientist. He builds a small, solar-powered water pump to help water the plants in his grandmother’s garden. When a mischievous squirrel knocks over the pump, Raj and his cousins must use their creativity to fix it before Grandma returns from her afternoon nap.', 'outputs/Raj the Aspiring Scientist/strip.png', 'outputs/Raj the Aspiring Scientist/input.png'], ['Meera the Classical Dancer', 'Meera is an 11-year-old classical dancer who has a big performance at the local temple. Just before her performance, she loses one of her ghungroos (ankle bells). She and her younger brother embark on a frantic, adventurous search through the temple grounds, encountering temple monkeys and helpful devotees along the way.', 'outputs/Meera the Classical Dancer/strip.png', 'outputs/Meera the Classical Dancer/input.png'], ['Rohan the Rickshaw Mechanic', \"Rohan is a 13-year-old who loves tinkering with machines, especially his father's auto-rickshaw. When the rickshaw breaks down one day, Rohan uses all the spare parts in his tiny workshop to create a temporary fix. But his innovation takes the rickshaw on an unexpected joyride through the crowded market!\", 'outputs/Rohan the Rickshaw Mechanic/strip.png', 'outputs/Rohan the Rickshaw Mechanic/input.png'], ['Priya the Village Explorer', 'Priya is an inquisitive 10-year-old girl who loves exploring her village near the Western Ghats. One day, she follows a trail of shiny pebbles to find a hidden pond deep in the forest. To her surprise, the pond is filled with glowing lotuses that seem to have a secret to share.', 'outputs/Priya the Village Explorer/strip.png', 'outputs/Priya the Village Explorer/input.png'], ['Kabir the Kite Runner', 'Kabir is a 9-year-old boy from Jaipur who loves flying kites. During the famous kite festival, Makar Sankranti, he finds a rare golden kite stuck in a tree. He must come up with a clever plan involving his friends and a makeshift ladder to rescue it before sunset.', 'outputs/Kabir the Kite Runner/strip.png', 'outputs/Kabir the Kite Runner/input.png'], ['Ananya the Storyteller', 'Ananya is a 12-year-old girl who loves telling stories to the neighborhood children. On a rainy afternoon, she gathers everyone under the community banyan tree and begins weaving a magical tale about brave kings, mythical creatures, and hidden treasures. The children feel as if they’re living the adventure themselves.', 'outputs/Ananya the Storyteller/strip.png', 'outputs/Ananya the Storyteller/input.png'], ['Aryan the Cricket Enthusiast', 'Aryan is an 8-year-old boy with a passion for cricket. It’s a power outage in his neighborhood, and he gathers his friends to play cricket by candlelight in the courtyard. They creatively use lanterns and car headlights to light the game, making it a thrilling night cricket match.', 'outputs/Aryan the Cricket Enthusiast/strip.png', 'outputs/Aryan the Cricket Enthusiast/input.png'], ['Maya And The Mystical Banyan Tree', 'Maya, a 13-year-old girl, has always been fascinated by the large banyan tree at the edge of her village. One day, while exploring its massive roots, she finds a hidden doorway leading into a mystical world beneath the tree. In this enchanting place, Maya encounters talking animals and glowing plants. However, she soon learns that the magic of the world is fading, and she must work with the creatures she meets to restore its energy before it vanishes forever.', 'outputs/Maya And The Mystical Banyan Tree/strip.png', 'outputs/Maya And The Mystical Banyan Tree/input.png'], ['Devansh the Secret Agent', 'Devansh is a 13-year-old who works as a secret agent for a kids-only spy club. Today, he gets his mission to protect the city�s biggest sweet shop from a notorious candy thief. He disguises himself as a customer to catch the thief red-handed.', 'outputs/Devansh the Secret Agent/strip.png', 'outputs/Devansh the Secret Agent/input.png']]\n"
          ]
        }
      ]
    },
    {
      "cell_type": "code",
      "source": [
        "!pip install gradio"
      ],
      "metadata": {
        "colab": {
          "base_uri": "https://localhost:8080/"
        },
        "id": "AA2t1Beksa4b",
        "outputId": "4801e85e-0d2d-409f-b651-d4e7e4c8aaf4"
      },
      "execution_count": 5,
      "outputs": [
        {
          "output_type": "stream",
          "name": "stdout",
          "text": [
            "Collecting gradio\n",
            "  Downloading gradio-5.6.0-py3-none-any.whl.metadata (16 kB)\n",
            "Collecting aiofiles<24.0,>=22.0 (from gradio)\n",
            "  Downloading aiofiles-23.2.1-py3-none-any.whl.metadata (9.7 kB)\n",
            "Requirement already satisfied: anyio<5.0,>=3.0 in /usr/local/lib/python3.10/dist-packages (from gradio) (3.7.1)\n",
            "Collecting fastapi<1.0,>=0.115.2 (from gradio)\n",
            "  Downloading fastapi-0.115.5-py3-none-any.whl.metadata (27 kB)\n",
            "Collecting ffmpy (from gradio)\n",
            "  Downloading ffmpy-0.4.0-py3-none-any.whl.metadata (2.9 kB)\n",
            "Collecting gradio-client==1.4.3 (from gradio)\n",
            "  Downloading gradio_client-1.4.3-py3-none-any.whl.metadata (7.1 kB)\n",
            "Requirement already satisfied: httpx>=0.24.1 in /usr/local/lib/python3.10/dist-packages (from gradio) (0.27.2)\n",
            "Requirement already satisfied: huggingface-hub>=0.25.1 in /usr/local/lib/python3.10/dist-packages (from gradio) (0.26.2)\n",
            "Requirement already satisfied: jinja2<4.0 in /usr/local/lib/python3.10/dist-packages (from gradio) (3.1.4)\n",
            "Collecting markupsafe~=2.0 (from gradio)\n",
            "  Downloading MarkupSafe-2.1.5-cp310-cp310-manylinux_2_17_x86_64.manylinux2014_x86_64.whl.metadata (3.0 kB)\n",
            "Requirement already satisfied: numpy<3.0,>=1.0 in /usr/local/lib/python3.10/dist-packages (from gradio) (1.26.4)\n",
            "Requirement already satisfied: orjson~=3.0 in /usr/local/lib/python3.10/dist-packages (from gradio) (3.10.11)\n",
            "Requirement already satisfied: packaging in /usr/local/lib/python3.10/dist-packages (from gradio) (24.2)\n",
            "Requirement already satisfied: pandas<3.0,>=1.0 in /usr/local/lib/python3.10/dist-packages (from gradio) (2.2.2)\n",
            "Requirement already satisfied: pillow<12.0,>=8.0 in /usr/local/lib/python3.10/dist-packages (from gradio) (11.0.0)\n",
            "Requirement already satisfied: pydantic>=2.0 in /usr/local/lib/python3.10/dist-packages (from gradio) (2.9.2)\n",
            "Collecting pydub (from gradio)\n",
            "  Downloading pydub-0.25.1-py2.py3-none-any.whl.metadata (1.4 kB)\n",
            "Collecting python-multipart==0.0.12 (from gradio)\n",
            "  Downloading python_multipart-0.0.12-py3-none-any.whl.metadata (1.9 kB)\n",
            "Requirement already satisfied: pyyaml<7.0,>=5.0 in /usr/local/lib/python3.10/dist-packages (from gradio) (6.0.2)\n",
            "Collecting ruff>=0.2.2 (from gradio)\n",
            "  Downloading ruff-0.8.0-py3-none-manylinux_2_17_x86_64.manylinux2014_x86_64.whl.metadata (25 kB)\n",
            "Collecting safehttpx<1.0,>=0.1.1 (from gradio)\n",
            "  Downloading safehttpx-0.1.1-py3-none-any.whl.metadata (4.1 kB)\n",
            "Collecting semantic-version~=2.0 (from gradio)\n",
            "  Downloading semantic_version-2.10.0-py2.py3-none-any.whl.metadata (9.7 kB)\n",
            "Collecting starlette<1.0,>=0.40.0 (from gradio)\n",
            "  Downloading starlette-0.41.3-py3-none-any.whl.metadata (6.0 kB)\n",
            "Collecting tomlkit==0.12.0 (from gradio)\n",
            "  Downloading tomlkit-0.12.0-py3-none-any.whl.metadata (2.7 kB)\n",
            "Requirement already satisfied: typer<1.0,>=0.12 in /usr/local/lib/python3.10/dist-packages (from gradio) (0.13.0)\n",
            "Requirement already satisfied: typing-extensions~=4.0 in /usr/local/lib/python3.10/dist-packages (from gradio) (4.12.2)\n",
            "Collecting uvicorn>=0.14.0 (from gradio)\n",
            "  Downloading uvicorn-0.32.1-py3-none-any.whl.metadata (6.6 kB)\n",
            "Requirement already satisfied: fsspec in /usr/local/lib/python3.10/dist-packages (from gradio-client==1.4.3->gradio) (2024.10.0)\n",
            "Collecting websockets<13.0,>=10.0 (from gradio-client==1.4.3->gradio)\n",
            "  Downloading websockets-12.0-cp310-cp310-manylinux_2_5_x86_64.manylinux1_x86_64.manylinux_2_17_x86_64.manylinux2014_x86_64.whl.metadata (6.6 kB)\n",
            "Requirement already satisfied: idna>=2.8 in /usr/local/lib/python3.10/dist-packages (from anyio<5.0,>=3.0->gradio) (3.10)\n",
            "Requirement already satisfied: sniffio>=1.1 in /usr/local/lib/python3.10/dist-packages (from anyio<5.0,>=3.0->gradio) (1.3.1)\n",
            "Requirement already satisfied: exceptiongroup in /usr/local/lib/python3.10/dist-packages (from anyio<5.0,>=3.0->gradio) (1.2.2)\n",
            "Requirement already satisfied: certifi in /usr/local/lib/python3.10/dist-packages (from httpx>=0.24.1->gradio) (2024.8.30)\n",
            "Requirement already satisfied: httpcore==1.* in /usr/local/lib/python3.10/dist-packages (from httpx>=0.24.1->gradio) (1.0.7)\n",
            "Requirement already satisfied: h11<0.15,>=0.13 in /usr/local/lib/python3.10/dist-packages (from httpcore==1.*->httpx>=0.24.1->gradio) (0.14.0)\n",
            "Requirement already satisfied: filelock in /usr/local/lib/python3.10/dist-packages (from huggingface-hub>=0.25.1->gradio) (3.16.1)\n",
            "Requirement already satisfied: requests in /usr/local/lib/python3.10/dist-packages (from huggingface-hub>=0.25.1->gradio) (2.32.3)\n",
            "Requirement already satisfied: tqdm>=4.42.1 in /usr/local/lib/python3.10/dist-packages (from huggingface-hub>=0.25.1->gradio) (4.66.6)\n",
            "Requirement already satisfied: python-dateutil>=2.8.2 in /usr/local/lib/python3.10/dist-packages (from pandas<3.0,>=1.0->gradio) (2.8.2)\n",
            "Requirement already satisfied: pytz>=2020.1 in /usr/local/lib/python3.10/dist-packages (from pandas<3.0,>=1.0->gradio) (2024.2)\n",
            "Requirement already satisfied: tzdata>=2022.7 in /usr/local/lib/python3.10/dist-packages (from pandas<3.0,>=1.0->gradio) (2024.2)\n",
            "Requirement already satisfied: annotated-types>=0.6.0 in /usr/local/lib/python3.10/dist-packages (from pydantic>=2.0->gradio) (0.7.0)\n",
            "Requirement already satisfied: pydantic-core==2.23.4 in /usr/local/lib/python3.10/dist-packages (from pydantic>=2.0->gradio) (2.23.4)\n",
            "Requirement already satisfied: click>=8.0.0 in /usr/local/lib/python3.10/dist-packages (from typer<1.0,>=0.12->gradio) (8.1.7)\n",
            "Requirement already satisfied: shellingham>=1.3.0 in /usr/local/lib/python3.10/dist-packages (from typer<1.0,>=0.12->gradio) (1.5.4)\n",
            "Requirement already satisfied: rich>=10.11.0 in /usr/local/lib/python3.10/dist-packages (from typer<1.0,>=0.12->gradio) (13.9.4)\n",
            "Requirement already satisfied: six>=1.5 in /usr/local/lib/python3.10/dist-packages (from python-dateutil>=2.8.2->pandas<3.0,>=1.0->gradio) (1.16.0)\n",
            "Requirement already satisfied: markdown-it-py>=2.2.0 in /usr/local/lib/python3.10/dist-packages (from rich>=10.11.0->typer<1.0,>=0.12->gradio) (3.0.0)\n",
            "Requirement already satisfied: pygments<3.0.0,>=2.13.0 in /usr/local/lib/python3.10/dist-packages (from rich>=10.11.0->typer<1.0,>=0.12->gradio) (2.18.0)\n",
            "Requirement already satisfied: charset-normalizer<4,>=2 in /usr/local/lib/python3.10/dist-packages (from requests->huggingface-hub>=0.25.1->gradio) (3.4.0)\n",
            "Requirement already satisfied: urllib3<3,>=1.21.1 in /usr/local/lib/python3.10/dist-packages (from requests->huggingface-hub>=0.25.1->gradio) (2.2.3)\n",
            "Requirement already satisfied: mdurl~=0.1 in /usr/local/lib/python3.10/dist-packages (from markdown-it-py>=2.2.0->rich>=10.11.0->typer<1.0,>=0.12->gradio) (0.1.2)\n",
            "Downloading gradio-5.6.0-py3-none-any.whl (57.1 MB)\n",
            "\u001b[2K   \u001b[90m━━━━━━━━━━━━━━━━━━━━━━━━━━━━━━━━━━━━━━━━\u001b[0m \u001b[32m57.1/57.1 MB\u001b[0m \u001b[31m9.8 MB/s\u001b[0m eta \u001b[36m0:00:00\u001b[0m\n",
            "\u001b[?25hDownloading gradio_client-1.4.3-py3-none-any.whl (320 kB)\n",
            "\u001b[2K   \u001b[90m━━━━━━━━━━━━━━━━━━━━━━━━━━━━━━━━━━━━━━━━\u001b[0m \u001b[32m320.1/320.1 kB\u001b[0m \u001b[31m18.7 MB/s\u001b[0m eta \u001b[36m0:00:00\u001b[0m\n",
            "\u001b[?25hDownloading python_multipart-0.0.12-py3-none-any.whl (23 kB)\n",
            "Downloading tomlkit-0.12.0-py3-none-any.whl (37 kB)\n",
            "Downloading aiofiles-23.2.1-py3-none-any.whl (15 kB)\n",
            "Downloading fastapi-0.115.5-py3-none-any.whl (94 kB)\n",
            "\u001b[2K   \u001b[90m━━━━━━━━━━━━━━━━━━━━━━━━━━━━━━━━━━━━━━━━\u001b[0m \u001b[32m94.9/94.9 kB\u001b[0m \u001b[31m6.1 MB/s\u001b[0m eta \u001b[36m0:00:00\u001b[0m\n",
            "\u001b[?25hDownloading MarkupSafe-2.1.5-cp310-cp310-manylinux_2_17_x86_64.manylinux2014_x86_64.whl (25 kB)\n",
            "Downloading ruff-0.8.0-py3-none-manylinux_2_17_x86_64.manylinux2014_x86_64.whl (11.1 MB)\n",
            "\u001b[2K   \u001b[90m━━━━━━━━━━━━━━━━━━━━━━━━━━━━━━━━━━━━━━━━\u001b[0m \u001b[32m11.1/11.1 MB\u001b[0m \u001b[31m69.2 MB/s\u001b[0m eta \u001b[36m0:00:00\u001b[0m\n",
            "\u001b[?25hDownloading safehttpx-0.1.1-py3-none-any.whl (8.4 kB)\n",
            "Downloading semantic_version-2.10.0-py2.py3-none-any.whl (15 kB)\n",
            "Downloading starlette-0.41.3-py3-none-any.whl (73 kB)\n",
            "\u001b[2K   \u001b[90m━━━━━━━━━━━━━━━━━━━━━━━━━━━━━━━━━━━━━━━━\u001b[0m \u001b[32m73.2/73.2 kB\u001b[0m \u001b[31m4.6 MB/s\u001b[0m eta \u001b[36m0:00:00\u001b[0m\n",
            "\u001b[?25hDownloading uvicorn-0.32.1-py3-none-any.whl (63 kB)\n",
            "\u001b[2K   \u001b[90m━━━━━━━━━━━━━━━━━━━━━━━━━━━━━━━━━━━━━━━━\u001b[0m \u001b[32m63.8/63.8 kB\u001b[0m \u001b[31m4.4 MB/s\u001b[0m eta \u001b[36m0:00:00\u001b[0m\n",
            "\u001b[?25hDownloading ffmpy-0.4.0-py3-none-any.whl (5.8 kB)\n",
            "Downloading pydub-0.25.1-py2.py3-none-any.whl (32 kB)\n",
            "Downloading websockets-12.0-cp310-cp310-manylinux_2_5_x86_64.manylinux1_x86_64.manylinux_2_17_x86_64.manylinux2014_x86_64.whl (130 kB)\n",
            "\u001b[2K   \u001b[90m━━━━━━━━━━━━━━━━━━━━━━━━━━━━━━━━━━━━━━━━\u001b[0m \u001b[32m130.2/130.2 kB\u001b[0m \u001b[31m8.9 MB/s\u001b[0m eta \u001b[36m0:00:00\u001b[0m\n",
            "\u001b[?25hInstalling collected packages: pydub, websockets, uvicorn, tomlkit, semantic-version, ruff, python-multipart, markupsafe, ffmpy, aiofiles, starlette, safehttpx, gradio-client, fastapi, gradio\n",
            "  Attempting uninstall: markupsafe\n",
            "    Found existing installation: MarkupSafe 3.0.2\n",
            "    Uninstalling MarkupSafe-3.0.2:\n",
            "      Successfully uninstalled MarkupSafe-3.0.2\n",
            "Successfully installed aiofiles-23.2.1 fastapi-0.115.5 ffmpy-0.4.0 gradio-5.6.0 gradio-client-1.4.3 markupsafe-2.1.5 pydub-0.25.1 python-multipart-0.0.12 ruff-0.8.0 safehttpx-0.1.1 semantic-version-2.10.0 starlette-0.41.3 tomlkit-0.12.0 uvicorn-0.32.1 websockets-12.0\n"
          ]
        }
      ]
    },
    {
      "cell_type": "code",
      "source": [
        "import gradio as gr\n",
        "import csv\n",
        "from datetime import datetime\n",
        "from PIL import Image, ImageDraw, ImageFont\n",
        "\n",
        "# Define a function that handles the whole comic generation process\n",
        "def generate_full_comic(characters, scenario, character_image, comic_image, slider1=None, slider2=None, slider3=None, slider4=None, slider5=None, slider6=None, email=\"dev@chronoccrafters.com\"):\n",
        "\n",
        "    comic_output = comic_image  # Placeholder for actual comic output\n",
        "\n",
        "    # Collect the feedback data\n",
        "    feedback_data = [\n",
        "        characters,\n",
        "        email,\n",
        "        slider1,\n",
        "        slider2,\n",
        "        slider3,\n",
        "        slider4,\n",
        "        slider5,\n",
        "        slider6,\n",
        "        datetime.now().strftime(\"%Y-%m-%d %H:%M:%S\")\n",
        "    ]\n",
        "\n",
        "    # Save feedback data to CSV\n",
        "    with open(wrkng_dir+\"/\"+'feedback_data.csv', mode='a', newline='') as file:\n",
        "        writer = csv.writer(file)\n",
        "        # Write header if file is empty\n",
        "        if file.tell() == 0:\n",
        "            writer.writerow([\n",
        "                \"Character Name\", \"Email\", \"How relevant is the generated content to the given scenario?\",\n",
        "                \"How satisfied were you with the individual panels of the comic?\",\n",
        "                \"How consistent do you find the character's appearance (clothing, hairstyle) across all panels?\",\n",
        "                \"How easy was it to follow the storyline from start to finish?\",\n",
        "                \"How well did the visuals (backgrounds, settings, characters) match the story context?\",\n",
        "                \"How satisfied are you with the transitions between panels in the storyline?\", \"Timestamp\"\n",
        "            ])\n",
        "        writer.writerow(feedback_data)\n",
        "\n",
        "    # Return the comic output, status message, and final comic image\n",
        "    return \"Comic generated successfully!\", comic_output\n",
        "\n",
        "# Update the Gradio Interface with the new API\n",
        "gui = gr.Interface(\n",
        "    fn=generate_full_comic,\n",
        "    inputs=[\n",
        "        gr.Textbox(label=\"Character Name Input\"),  # Assuming character_name_input is a text input\n",
        "        gr.Textbox(label=\"Scenario Input\"),        # Assuming scenario_input is a text input\n",
        "        gr.Image(type=\"pil\", label=\"Character Input Image\"), # Character input image\n",
        "        gr.Image(type=\"pil\", label=\"Comic Input Image\", visible=False), # Comic input image\n",
        "        gr.Slider(1, 5, 3, 1, label=\"How relevant is the generated content to the given scenario?\"),\n",
        "        gr.Slider(1, 5, 3, 1, label=\"How satisfied were you with the individual panels of the comic?\"),\n",
        "        gr.Slider(1, 5, 3, 1, label=\"How consistent do you find the character's appearance (clothing, hairstyle) across all panels?\"),\n",
        "        gr.Slider(1, 5, 3, 1, label=\"How easy was it to follow the storyline from start to finish?\"),\n",
        "        gr.Slider(1, 5, 3, 1, label=\"How well did the visuals (backgrounds, settings, characters) match the story context?\"),\n",
        "        gr.Slider(1, 5, 3, 1, label=\"How satisfied are you with the transitions between panels in the storyline?\"),\n",
        "        gr.Textbox(value=\"dev@chronoccrafters.com\", type=\"email\", label=\"Email\")\n",
        "    ],\n",
        "    outputs=[\n",
        "        gr.Textbox(label=\"Status Output\"),  # Status output as a text box\n",
        "        gr.Image(type=\"pil\", label=\"Generated Comic\")  # Updated to handle a single image\n",
        "    ],\n",
        "    examples=[[char_data[0], char_data[1],  Image.open(wrkng_dir + \"/\"+ char_data[3]),  Image.open(wrkng_dir +\"/\"+ char_data[2])] for char_data in examples_chars_sc],\n",
        "    title=\"Chrono Crafter: Consistent Comic Generation\",\n",
        "    description=\"Upload character image and a comic image, enter character details, and provide a short scenario to generate a 6-panel comic.\",\n",
        "    flagging_mode=\"never\",\n",
        "    # flagging_options=[\"Feedback\"],\n",
        "    cache_examples=\"lazy\",\n",
        "    examples_per_page=5,\n",
        "    clear_btn=None,\n",
        "\n",
        "\n",
        "\n",
        "\n",
        ")\n",
        "\n",
        "# Launch the GUI with debug mode enabled\n",
        "gui.launch(debug=True)\n",
        "\n"
      ],
      "metadata": {
        "colab": {
          "base_uri": "https://localhost:8080/",
          "height": 767
        },
        "id": "HpOqJiwh-9B3",
        "outputId": "42b7ec1f-9cd9-4b05-889c-e7044bf00dc1"
      },
      "execution_count": null,
      "outputs": [
        {
          "metadata": {
            "tags": null
          },
          "name": "stderr",
          "output_type": "stream",
          "text": [
            "/usr/local/lib/python3.10/dist-packages/gradio/helpers.py:147: UserWarning: In future versions of Gradio, the `cache_examples` parameter will no longer accept a value of 'lazy'. To enable lazy caching in Gradio, you should set `cache_examples=True`, and `cache_mode='lazy'` instead.\n",
            "  warnings.warn(\n"
          ]
        },
        {
          "metadata": {
            "tags": null
          },
          "name": "stdout",
          "output_type": "stream",
          "text": [
            "Will cache examples in '/content/.gradio/cached_examples/27' directory at first use. \n",
            "\n",
            "\n"
          ]
        },
        {
          "metadata": {
            "tags": null
          },
          "name": "stderr",
          "output_type": "stream",
          "text": [
            "/usr/local/lib/python3.10/dist-packages/gradio/helpers.py:412: UserWarning: Examples will be cached but not all input components have example values. This may result in an exception being thrown by your function. If you do get an error while caching examples, make sure all of your inputs have example values for all of your examples or you provide default values for those particular parameters in your function.\n",
            "  warnings.warn(\n"
          ]
        },
        {
          "metadata": {
            "tags": null
          },
          "name": "stdout",
          "output_type": "stream",
          "text": [
            "Running Gradio in a Colab notebook requires sharing enabled. Automatically setting `share=True` (you can turn this off by setting `share=False` in `launch()` explicitly).\n",
            "\n",
            "Colab notebook detected. This cell will run indefinitely so that you can see errors and logs. To turn off, set debug=False in launch().\n",
            "* Running on public URL: https://0838623efcc8e31950.gradio.live\n",
            "\n",
            "This share link expires in 72 hours. For free permanent hosting and GPU upgrades, run `gradio deploy` from the terminal in the working directory to deploy to Hugging Face Spaces (https://huggingface.co/spaces)\n"
          ]
        },
        {
          "data": {
            "text/html": [
              "<div><iframe src=\"https://0838623efcc8e31950.gradio.live\" width=\"100%\" height=\"500\" allow=\"autoplay; camera; microphone; clipboard-read; clipboard-write;\" frameborder=\"0\" allowfullscreen></iframe></div>"
            ],
            "text/plain": [
              "<IPython.core.display.HTML object>"
            ]
          },
          "metadata": {},
          "output_type": "display_data"
        }
      ]
    }
  ]
}